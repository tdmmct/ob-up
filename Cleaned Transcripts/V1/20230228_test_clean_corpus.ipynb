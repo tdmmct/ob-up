{
  "nbformat": 4,
  "nbformat_minor": 0,
  "metadata": {
    "colab": {
      "provenance": []
    },
    "kernelspec": {
      "name": "python3",
      "display_name": "Python 3"
    },
    "language_info": {
      "name": "python"
    }
  },
  "cells": [
    {
      "cell_type": "markdown",
      "source": [
        "# About\n",
        "- This notebook does some basic cleaning for the transcript dataset. \n",
        "- It mostly looks for patterns and remove them. Patterns includes \"all caps\" and \"[]\". \n",
        "- These are often used to indicate ambient noise or to indicate speakers.\n",
        "- This workflow should remove around 90-95% of the noise in the dataset. \n",
        "- However, a manual review is still needed after this clean up. \n",
        "- (e.g. special characters and one off noises are not captured in this process)"
      ],
      "metadata": {
        "id": "HUbwUw2ScFT6"
      }
    },
    {
      "cell_type": "code",
      "execution_count": 18,
      "metadata": {
        "id": "Y71fqnHH3kQ3"
      },
      "outputs": [],
      "source": [
        "import pandas as pd\n",
        "import re\n",
        "import string\n",
        "from bs4 import BeautifulSoup\n",
        "import nltk\n",
        "from nltk.stem import PorterStemmer\n",
        "from nltk.stem.wordnet import WordNetLemmatizer\n",
        "import spacy\n"
      ]
    },
    {
      "cell_type": "code",
      "source": [
        "nlp = spacy.load('en_core_web_sm')"
      ],
      "metadata": {
        "id": "BQlB1kcq5mtX"
      },
      "execution_count": 36,
      "outputs": []
    },
    {
      "cell_type": "markdown",
      "source": [
        "# 0) Read Data"
      ],
      "metadata": {
        "id": "G8UVNyB89pUD"
      }
    },
    {
      "cell_type": "code",
      "source": [
        "with open('S12 E10.txt', 'r') as text:\n",
        "      textfile = text.read()\n",
        "      print(textfile[:1000])"
      ],
      "metadata": {
        "colab": {
          "base_uri": "https://localhost:8080/"
        },
        "id": "_3X8Ir5v5iU5",
        "outputId": "a3d336f6-d09d-424c-b0a6-650eb73ce84e"
      },
      "execution_count": 146,
      "outputs": [
        {
          "output_type": "stream",
          "name": "stdout",
          "text": [
            "It's the final, and the remaining bakers are set three challenges that will test every aspect of their baking skills, including a classic carrot cake and a Mad Hatter's tea party banquet. One baker will be crowned the Bake Off 2021 winner.\n",
            "[Matt] In the beginningâ¦\n",
            "\n",
            "Good luck in there.\n",
            "\n",
            "â¦there were 12.\n",
            "\n",
            "-[laughing]\n",
            "-Hello, Prue, how you doing?\n",
            "\n",
            "[singing \"Meet the Flintstones\" in German]\n",
            "\n",
            "I don't want to get emotional.\n",
            "\n",
            "Everybody's terrified\n",
            "about collapsing cakes.\n",
            "\n",
            "-[crowd laughing]\n",
            "-[gasps]\n",
            "\n",
            "-[Matt] Oh, no!\n",
            "-[Freya] Oh, my God.\n",
            "\n",
            "-[Matt] Nowâ¦\n",
            "-[Crystelle] Breathe.\n",
            "\n",
            "Just remember to breathe.\n",
            "\n",
            "\n",
            "\n",
            "â¦there are three.\n",
            "\n",
            "-[Giuseppe] There's so much to do.\n",
            "-Are you taking the mick?\n",
            "\n",
            "[Crystelle] Do not drop.\n",
            "\n",
            "-This is not going to be pretty.\n",
            "-[Crystelle gasps]\n",
            "\n",
            "Can't do anything now, can I?\n",
            "\n",
            "[gasps] Oh, the oven is off.\n",
            "\n",
            "What have you done?\n",
            "\n",
            "[opening theme music playing]\n",
            "\n",
            "[Noel] The 2021 final is like no other.\n",
            "\n",
            "-Are you serious?\n",
            "-Yeah, absolutely.\n",
            "\n",
            "[Noel] For the first time ever,\n",
            "\n",
            "each of our\n"
          ]
        }
      ]
    },
    {
      "cell_type": "code",
      "source": [
        "# Make a copy of raw text file\n",
        "clean_textfile=textfile"
      ],
      "metadata": {
        "id": "wcGcqK6x42Qj"
      },
      "execution_count": 147,
      "outputs": []
    },
    {
      "cell_type": "markdown",
      "source": [
        "# 1) Removing Caps"
      ],
      "metadata": {
        "id": "er4rXFEv9fKf"
      }
    },
    {
      "cell_type": "code",
      "source": [
        "# identify all text in all caps\n",
        "all_caps = set(re.findall(r\"(\\b(?:[A-Z]+[A-Z]*|[A-Z]*[A-Z]+)\\b(?:\\s+(?:[A-Z]+[a-z]?[A-Z]*|[A-Z]*[a-z]?[A-Z]+)\\b)*)\"\n",
        "                      , clean_textfile\n",
        "                      , re.DOTALL))\n",
        "\n",
        "all_caps"
      ],
      "metadata": {
        "colab": {
          "base_uri": "https://localhost:8080/"
        },
        "id": "wlOXXwxm5iXm",
        "outputId": "07f66361-9228-47f1-8bbc-53c04defc3da"
      },
      "execution_count": 148,
      "outputs": [
        {
          "output_type": "execute_result",
          "data": {
            "text/plain": [
              "{'A', 'DNA', 'I', 'TV'}"
            ]
          },
          "metadata": {},
          "execution_count": 148
        }
      ]
    },
    {
      "cell_type": "code",
      "source": [
        "# Manually pick cap items that should be removed, commented out unwaited items\n",
        "# Keeping items that looks like an actual words that should be in caps (e.g. A, I, DIY, HR, TV)\n",
        "cap_to_remove={\n",
        "    # 'A',\n",
        " 'APPLAUSE',\n",
        " 'BLEEP',\n",
        "#  'DNA',\n",
        " 'EXHALES',\n",
        " 'HE LAUGHS',\n",
        " 'HE LAUGHS\\n\\nHe',\n",
        "#  'I',\n",
        " 'LAUGHING',\n",
        " 'LAUGHTER',\n",
        " 'LAUGHTER\\n\\nNo',\n",
        " 'LAUGHTER\\n\\nSo',\n",
        "#  'OK',\n",
        " 'ON PHONE',\n",
        " 'PRUE CHUCKLES\\n\\nIn',\n",
        " 'SHE SIGHS',\n",
        " 'SHRIEKING\\n\\nOh',\n",
        " 'SHRIEKING ON PHONE',\n",
        " 'SO',\n",
        " 'STIFLED LAUGHTER',\n",
        " 'THEY HUM',\n",
        " 'THEY LAUGH',\n",
        " 'V',\n",
        " 'STIFLED'} \n",
        "\n",
        " # Delete cap words, by replacing them with ''\n",
        "for words in cap_to_remove:\n",
        "  clean_textfile = clean_textfile.replace(words, '')"
      ],
      "metadata": {
        "id": "h5lkwOWw30bA"
      },
      "execution_count": 149,
      "outputs": []
    },
    {
      "cell_type": "code",
      "source": [
        "# Check if caps are removed properly, if anything is missed, add teh word in the step above and rerun code\n",
        "\n",
        "validate_caps = set(re.findall(r\"(\\b(?:[A-Z]+[A-Z]*|[A-Z]*[A-Z]+)\\b(?:\\s+(?:[A-Z]+[a-z]?[A-Z]*|[A-Z]*[a-z]?[A-Z]+)\\b)*)\"\n",
        "                      , clean_textfile\n",
        "                      , re.DOTALL))\n",
        "\n",
        "validate_caps"
      ],
      "metadata": {
        "colab": {
          "base_uri": "https://localhost:8080/"
        },
        "id": "8BEXU8hE-SR9",
        "outputId": "d2f5c4bf-7d00-43ed-b58b-7825c049ec04"
      },
      "execution_count": 150,
      "outputs": [
        {
          "output_type": "execute_result",
          "data": {
            "text/plain": [
              "{'A', 'DNA', 'I', 'T'}"
            ]
          },
          "metadata": {},
          "execution_count": 150
        }
      ]
    },
    {
      "cell_type": "markdown",
      "source": [
        "# Remove [name]"
      ],
      "metadata": {
        "id": "IgG6yP801X2f"
      }
    },
    {
      "cell_type": "code",
      "source": [
        "# identify all text in all square \n",
        "all_square_bracket = set(re.findall(r\"\\[[^\\[\\]]+\\]\"\n",
        "                      , clean_textfile\n",
        "                      , re.DOTALL))\n",
        "\n",
        "all_square_bracket"
      ],
      "metadata": {
        "colab": {
          "base_uri": "https://localhost:8080/"
        },
        "id": "tdyZUZx11z0R",
        "outputId": "d5a93c91-baa0-4e95-8992-1646ab031469"
      },
      "execution_count": 151,
      "outputs": [
        {
          "output_type": "execute_result",
          "data": {
            "text/plain": [
              "{'[Chigs blows raspberry]',\n",
              " '[Chigs chuckles]',\n",
              " '[Chigs giggling]',\n",
              " '[Chigs grumbles]',\n",
              " '[Chigs grunts]',\n",
              " '[Chigs sighs]',\n",
              " '[Chigs]',\n",
              " '[Crystelle and Matt laugh]',\n",
              " '[Crystelle gasps]',\n",
              " '[Crystelle laughing]',\n",
              " '[Crystelle laughs]',\n",
              " '[Crystelle sighs]',\n",
              " '[Crystelle yelling]',\n",
              " '[Crystelle]',\n",
              " '[Freya]',\n",
              " '[Giuseppe whistles]',\n",
              " '[Giuseppe]',\n",
              " '[Matt gasps]',\n",
              " '[Matt]',\n",
              " '[Noel chuckling]',\n",
              " '[Noel laughs]',\n",
              " '[Noel whispers]',\n",
              " '[Noel]',\n",
              " '[Paul chuckling]',\n",
              " '[Paul]',\n",
              " '[Prue chuckles]',\n",
              " '[Prue]',\n",
              " '[all applauding]',\n",
              " '[all cheering and applauding]',\n",
              " '[all cheering]',\n",
              " '[all chuckle]',\n",
              " '[all laugh]',\n",
              " '[all laughing]',\n",
              " '[all]',\n",
              " '[applause continues]',\n",
              " '[audience cheering]',\n",
              " '[both chuckling]',\n",
              " '[both laugh]',\n",
              " '[both laughing]',\n",
              " '[breathing heavily]',\n",
              " '[cheering continues]',\n",
              " '[cheers and applause continue]',\n",
              " '[chuckles]',\n",
              " '[chuckling]',\n",
              " '[clears throat]',\n",
              " '[crowd laughing]',\n",
              " '[crunching]',\n",
              " '[dramatically]',\n",
              " '[emotional music playing]',\n",
              " '[exhales heavily]',\n",
              " '[exhales]',\n",
              " '[gasps]',\n",
              " '[gibbering]',\n",
              " '[imitates Porky Pig]',\n",
              " '[in Cockney accent]',\n",
              " '[indistinct chatter]',\n",
              " '[inhales deeply]',\n",
              " '[inhales]',\n",
              " '[kisses]',\n",
              " '[laughing]',\n",
              " '[laughs]',\n",
              " '[makes indistinct noises]',\n",
              " '[man]',\n",
              " '[mumbles indistinctly]',\n",
              " '[muttering]',\n",
              " '[normal voice]',\n",
              " '[opening theme music playing]',\n",
              " '[oven beeping]',\n",
              " '[sighs in relief]',\n",
              " '[sighs]',\n",
              " '[sing-song]',\n",
              " '[singing \"Meet the Flintstones\" in German]',\n",
              " '[speaking Italian]',\n",
              " '[squeals cheerfully]',\n",
              " '[squeals]',\n",
              " '[stumbling]',\n",
              " '[thunder rumbling]',\n",
              " '[timer beeping]',\n",
              " '[voice breaking]',\n",
              " '[whispers]',\n",
              " '[whistles]',\n",
              " '[woman]'}"
            ]
          },
          "metadata": {},
          "execution_count": 151
        }
      ]
    },
    {
      "cell_type": "code",
      "source": [
        "# Manually pick [] items that should be removed\n",
        "square_bracket_to_remove={'[Chigs blows raspberry]',\n",
        " '[Chigs chuckles]',\n",
        " '[Chigs giggling]',\n",
        " '[Chigs grumbles]',\n",
        " '[Chigs grunts]',\n",
        " '[Chigs sighs]',\n",
        " '[Chigs]',\n",
        " '[Crystelle and Matt laugh]',\n",
        " '[Crystelle gasps]',\n",
        " '[Crystelle laughing]',\n",
        " '[Crystelle laughs]',\n",
        " '[Crystelle sighs]',\n",
        " '[Crystelle yelling]',\n",
        " '[Crystelle]',\n",
        " '[Freya]',\n",
        " '[Giuseppe whistles]',\n",
        " '[Giuseppe]',\n",
        " '[Matt gasps]',\n",
        " '[Matt]',\n",
        " '[Noel chuckling]',\n",
        " '[Noel laughs]',\n",
        " '[Noel whispers]',\n",
        " '[Noel]',\n",
        " '[Paul chuckling]',\n",
        " '[Paul]',\n",
        " '[Prue chuckles]',\n",
        " '[Prue]',\n",
        " '[all applauding]',\n",
        " '[all cheering and applauding]',\n",
        " '[all cheering]',\n",
        " '[all chuckle]',\n",
        " '[all laugh]',\n",
        " '[all laughing]',\n",
        " '[all]',\n",
        " '[applause continues]',\n",
        " '[audience cheering]',\n",
        " '[both chuckling]',\n",
        " '[both laugh]',\n",
        " '[both laughing]',\n",
        " '[breathing heavily]',\n",
        " '[cheering continues]',\n",
        " '[cheers and applause continue]',\n",
        " '[chuckles]',\n",
        " '[chuckling]',\n",
        " '[clears throat]',\n",
        " '[crowd laughing]',\n",
        " '[crunching]',\n",
        " '[dramatically]',\n",
        " '[emotional music playing]',\n",
        " '[exhales heavily]',\n",
        " '[exhales]',\n",
        " '[gasps]',\n",
        " '[gibbering]',\n",
        " '[imitates Porky Pig]',\n",
        " '[in Cockney accent]',\n",
        " '[indistinct chatter]',\n",
        " '[inhales deeply]',\n",
        " '[inhales]',\n",
        " '[kisses]',\n",
        " '[laughing]',\n",
        " '[laughs]',\n",
        " '[makes indistinct noises]',\n",
        " '[man]',\n",
        " '[mumbles indistinctly]',\n",
        " '[muttering]',\n",
        " '[normal voice]',\n",
        " '[opening theme music playing]',\n",
        " '[oven beeping]',\n",
        " '[sighs in relief]',\n",
        " '[sighs]',\n",
        " '[sing-song]',\n",
        " '[singing \"Meet the Flintstones\" in German]',\n",
        " '[speaking Italian]',\n",
        " '[squeals cheerfully]',\n",
        " '[squeals]',\n",
        " '[stumbling]',\n",
        " '[thunder rumbling]',\n",
        " '[timer beeping]',\n",
        " '[voice breaking]',\n",
        " '[whispers]',\n",
        " '[whistles]',\n",
        " '[woman]'} \n",
        "\n",
        " # Delete cap words, by replacing them with ''\n",
        "for words in square_bracket_to_remove:\n",
        "  clean_textfile = clean_textfile.replace(words, '')\n",
        "\n",
        "clean_textfile = clean_textfile.replace('[]', '')  "
      ],
      "metadata": {
        "id": "VMHoFALJ49Fl"
      },
      "execution_count": 152,
      "outputs": []
    },
    {
      "cell_type": "code",
      "source": [
        "# Check if they have been removed properly\n",
        "# identify all text in all caps\n",
        "all_square_bracket = set(re.findall(r\"\\[[^\\[\\]]+\\]\"\n",
        "                      , clean_textfile\n",
        "                      , re.DOTALL))\n",
        "\n",
        "all_square_bracket"
      ],
      "metadata": {
        "colab": {
          "base_uri": "https://localhost:8080/"
        },
        "id": "FWvwO0HS4s0i",
        "outputId": "3e6d68a3-5c09-4298-d28a-7c0614347207"
      },
      "execution_count": 153,
      "outputs": [
        {
          "output_type": "execute_result",
          "data": {
            "text/plain": [
              "set()"
            ]
          },
          "metadata": {},
          "execution_count": 153
        }
      ]
    },
    {
      "cell_type": "markdown",
      "source": [
        "# Remove \"advertising\" lines"
      ],
      "metadata": {
        "id": "e9VSeoS41cp1"
      }
    },
    {
      "cell_type": "code",
      "source": [
        "clean_textfile = re.sub(\"Advertise your product or brand here\", \"\", clean_textfile)\n",
        "clean_textfile = re.sub(\"contact www.OpenSubtitles.org today\", \"\", clean_textfile)\n",
        "clean_textfile = re.sub(\"Support us and become VIP member\", \"\", clean_textfile)\n",
        "clean_textfile = re.sub(\"to remove all ads from www.OpenSubtitles.org\", \"\", clean_textfile)\n",
        "clean_textfile = re.sub(\"Advertise your product or brand here\", \"\", clean_textfile)\n",
        "clean_textfile = re.sub(\"contact www.OpenSubtitles.org today\", \"\", clean_textfile)\n",
        "\n",
        "\n"
      ],
      "metadata": {
        "id": "sr9CozTi8k03"
      },
      "execution_count": 154,
      "outputs": []
    },
    {
      "cell_type": "markdown",
      "source": [],
      "metadata": {
        "id": "42_mfJDL1bmU"
      }
    },
    {
      "cell_type": "markdown",
      "source": [
        "# 2) Remove Music ♪"
      ],
      "metadata": {
        "id": "9C2Vq3UM_Kxs"
      }
    },
    {
      "cell_type": "code",
      "source": [
        "# might be easier to do manually?"
      ],
      "metadata": {
        "id": "5h-J6IvJ_Nw7"
      },
      "execution_count": 155,
      "outputs": []
    },
    {
      "cell_type": "code",
      "source": [
        "%%time\n",
        "clean_textfile = re.sub(\"[♪@*&?].*[♪@*&?]\", \"\", clean_textfile)"
      ],
      "metadata": {
        "colab": {
          "base_uri": "https://localhost:8080/"
        },
        "id": "HJOqaObnALlE",
        "outputId": "17a621b3-aa8e-43b7-ba81-bf1c21e58c1d"
      },
      "execution_count": 156,
      "outputs": [
        {
          "output_type": "stream",
          "name": "stdout",
          "text": [
            "CPU times: user 566 µs, sys: 0 ns, total: 566 µs\n",
            "Wall time: 582 µs\n"
          ]
        }
      ]
    },
    {
      "cell_type": "markdown",
      "source": [
        "# Export cleaned file"
      ],
      "metadata": {
        "id": "eQyAPtt90uMh"
      }
    },
    {
      "cell_type": "code",
      "source": [
        "# Check how text is looking now\n",
        "print(clean_textfile[:1000])"
      ],
      "metadata": {
        "colab": {
          "base_uri": "https://localhost:8080/"
        },
        "id": "o4Ci_aDc1Xgo",
        "outputId": "3917e426-80bc-4b73-e806-f83da7bb28ee"
      },
      "execution_count": 157,
      "outputs": [
        {
          "output_type": "stream",
          "name": "stdout",
          "text": [
            "It's the final, and the remaining bakers are set three challenges that will test every aspect of their baking skills, including a classic carrot cake and a Mad Hatter's tea party banquet. One baker will be crowned the Bake Off 2021 winner.\n",
            " In the beginningâ¦\n",
            "\n",
            "Good luck in there.\n",
            "\n",
            "â¦there were 12.\n",
            "\n",
            "-\n",
            "-Hello, Prue, how you doing?\n",
            "\n",
            "\n",
            "\n",
            "I don't want to get emotional.\n",
            "\n",
            "Everybody's terrified\n",
            "about collapsing cakes.\n",
            "\n",
            "-\n",
            "-\n",
            "\n",
            "- Oh, no!\n",
            "- Oh, my God.\n",
            "\n",
            "- Nowâ¦\n",
            "- Breathe.\n",
            "\n",
            "Just remember to breathe.\n",
            "\n",
            "\n",
            "\n",
            "â¦there are three.\n",
            "\n",
            "- There's so much to do.\n",
            "-Are you taking the mick?\n",
            "\n",
            " Do not drop.\n",
            "\n",
            "-This is not going to be pretty.\n",
            "-\n",
            "\n",
            "Can't do anything now, can I?\n",
            "\n",
            " Oh, the oven is off.\n",
            "\n",
            "What have you done?\n",
            "\n",
            "\n",
            "\n",
            " The 2021 final is like no other.\n",
            "\n",
            "-Are you serious?\n",
            "-Yeah, absolutely.\n",
            "\n",
            " For the first time ever,\n",
            "\n",
            "each of our finalists\n",
            "have won two Hollywood handshakesâ¦\n",
            "\n",
            "Oh, my God!\n",
            "\n",
            "â¦and also been\n",
            "awarded Star Baker two times.\n",
            "\n",
            "\n",
            "\n",
            " Giuseppe.\n",
            "\n",
            " It's never been this close before.\n",
            "\n",
            "-Giuseppe, congratulations.\n",
            "-\n",
            "\n",
            " From t\n"
          ]
        }
      ]
    },
    {
      "cell_type": "code",
      "source": [
        "%%time\n",
        "\n",
        "# export file to check \n",
        "with open('S12E10_python_cleaned_v1.txt', 'a') as f:\n",
        "    f.write(clean_textfile)"
      ],
      "metadata": {
        "colab": {
          "base_uri": "https://localhost:8080/"
        },
        "id": "lhOTjFbD_QQs",
        "outputId": "a6e3ad6f-84dc-40a2-a69f-4132dc18c007"
      },
      "execution_count": 158,
      "outputs": [
        {
          "output_type": "stream",
          "name": "stdout",
          "text": [
            "CPU times: user 1.77 ms, sys: 0 ns, total: 1.77 ms\n",
            "Wall time: 3.69 ms\n"
          ]
        }
      ]
    },
    {
      "cell_type": "markdown",
      "source": [
        "# Ignore from here\n",
        "\n",
        "- The following save .ipynb as html so others can view (not needed for workflow)\n",
        "- To do so, export the ipynb to your desktop, then re-upload them to your directory in colab (left panel) below sample_data\n",
        "- Copy file path from the uploaded file and update code below\n",
        "- Then run code below, it should save a copy of the notebook in html"
      ],
      "metadata": {
        "id": "pl3J1H1wC_6w"
      }
    },
    {
      "cell_type": "code",
      "source": [
        "%%shell\n",
        "jupyter nbconvert --to html /content/20230228_test_clean_corpus.ipynb"
      ],
      "metadata": {
        "colab": {
          "base_uri": "https://localhost:8080/"
        },
        "id": "TIOFrr4FBYIe",
        "outputId": "eef93a39-af87-4ed6-c332-4b0b09451448"
      },
      "execution_count": 164,
      "outputs": [
        {
          "output_type": "stream",
          "name": "stdout",
          "text": [
            "[NbConvertApp] Converting notebook /content/20230228_test_clean_corpus.ipynb to html\n",
            "[NbConvertApp] Writing 624794 bytes to /content/20230228_test_clean_corpus.html\n"
          ]
        },
        {
          "output_type": "execute_result",
          "data": {
            "text/plain": []
          },
          "metadata": {},
          "execution_count": 164
        }
      ]
    },
    {
      "cell_type": "code",
      "source": [],
      "metadata": {
        "id": "Qcic6XP5Bdqc"
      },
      "execution_count": null,
      "outputs": []
    }
  ]
}