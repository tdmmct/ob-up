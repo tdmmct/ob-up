{
  "nbformat": 4,
  "nbformat_minor": 0,
  "metadata": {
    "colab": {
      "provenance": []
    },
    "kernelspec": {
      "name": "python3",
      "display_name": "Python 3"
    },
    "language_info": {
      "name": "python"
    }
  },
  "cells": [
    {
      "cell_type": "markdown",
      "source": [
        "# About\n",
        "- This notebook does some basic cleaning for the transcript dataset. \n",
        "- It mostly looks for patterns and remove them. Patterns includes \"all caps\" and \"[]\". \n",
        "- These are often used to indicate ambient noise or to indicate speakers.\n",
        "- This workflow should remove around 90-95% of the noise in the dataset. \n",
        "- However, a manual review is still needed after this clean up. \n",
        "- (e.g. special characters and one off noises are not captured in this process)"
      ],
      "metadata": {
        "id": "HUbwUw2ScFT6"
      }
    },
    {
      "cell_type": "code",
      "execution_count": null,
      "metadata": {
        "id": "Y71fqnHH3kQ3",
        "colab": {
          "base_uri": "https://localhost:8080/"
        },
        "outputId": "8c47c2e0-ffc5-4f1d-d28b-fd3cb04dae60"
      },
      "outputs": [
        {
          "output_type": "stream",
          "name": "stderr",
          "text": [
            "/usr/local/lib/python3.9/dist-packages/torch/cuda/__init__.py:497: UserWarning: Can't initialize NVML\n",
            "  warnings.warn(\"Can't initialize NVML\")\n"
          ]
        }
      ],
      "source": [
        "import pandas as pd\n",
        "import re\n",
        "import string\n",
        "from bs4 import BeautifulSoup\n",
        "import nltk\n",
        "from nltk.stem import PorterStemmer\n",
        "from nltk.stem.wordnet import WordNetLemmatizer\n",
        "import spacy\n"
      ]
    },
    {
      "cell_type": "code",
      "source": [
        "nlp = spacy.load('en_core_web_sm')"
      ],
      "metadata": {
        "id": "BQlB1kcq5mtX"
      },
      "execution_count": null,
      "outputs": []
    },
    {
      "cell_type": "markdown",
      "source": [
        "# 0) Read Data"
      ],
      "metadata": {
        "id": "G8UVNyB89pUD"
      }
    },
    {
      "cell_type": "code",
      "source": [
        "with open('S2 E10.txt', 'r') as text:\n",
        "      textfile = text.read()\n",
        "      print(textfile[:1000])"
      ],
      "metadata": {
        "colab": {
          "base_uri": "https://localhost:8080/"
        },
        "id": "_3X8Ir5v5iU5",
        "outputId": "b26c4968-6d1d-4e18-8d28-246cc20a2aad"
      },
      "execution_count": null,
      "outputs": [
        {
          "output_type": "stream",
          "name": "stdout",
          "text": [
            "Welcome to The Great British Bake Off Masterclass.\n",
            "\n",
            "Judges Mary Berry and I will be doing the baking.\n",
            "\n",
            "We'll guide you through challenges faced by the bakers in this year's Bake Off.\n",
            "\n",
            "We will show you some little tips and tricks that will help you at home to create something magical.\n",
            "\n",
            "From the mixing, to the baking, to the finishing,\n",
            "\n",
            "to the presentation, at home you will get the same results.\n",
            "\n",
            "Coming up, my luxury pork pies\n",
            "\n",
            "encased in notoriously-difficult-to-handle hot water crust pastry,\n",
            "\n",
            "filled with the perfect combination of pork loin and a quail's egg.\n",
            "\n",
            "Mary Berry's chocolate roulade recipe.\n",
            "\n",
            "Mary will show you how to get the perfect roll every time.\n",
            "\n",
            "\n",
            "\n",
            "My traditional iced fingers - a complex combination\n",
            "\n",
            "of sweet yet buttery dough, precisely piped with whipped cream and strawberry jam.\n",
            "\n",
            "And Mary's Sachertorte - a technically tricky, dense chocolate cake\n",
            "\n",
            "with its signature glossy ganache icing.\n",
            "\n",
            "'Over the course of eight weeks\n",
            "\n",
            "'earlier this year, Mary and I saw twelve of the c\n"
          ]
        }
      ]
    },
    {
      "cell_type": "code",
      "source": [
        "# Make a copy of raw text file\n",
        "clean_textfile=textfile"
      ],
      "metadata": {
        "id": "wcGcqK6x42Qj"
      },
      "execution_count": null,
      "outputs": []
    },
    {
      "cell_type": "markdown",
      "source": [
        "# 1) Removing Caps"
      ],
      "metadata": {
        "id": "er4rXFEv9fKf"
      }
    },
    {
      "cell_type": "code",
      "source": [
        "# identify all text in all caps\n",
        "all_caps = set(re.findall(r\"(\\b(?:[A-Z]+[A-Z]*|[A-Z]*[A-Z]+)\\b(?:\\s+(?:[A-Z]+[a-z]?[A-Z]*|[A-Z]*[a-z]?[A-Z]+)\\b)*)\"\n",
        "                      , clean_textfile\n",
        "                      , re.DOTALL))\n",
        "\n",
        "all_caps"
      ],
      "metadata": {
        "colab": {
          "base_uri": "https://localhost:8080/"
        },
        "id": "wlOXXwxm5iXm",
        "outputId": "f1b058bf-7d4a-4e56-ef4a-5b703be4ee57"
      },
      "execution_count": null,
      "outputs": [
        {
          "output_type": "execute_result",
          "data": {
            "text/plain": [
              "{'A', 'ALL', 'BOTH', 'I', 'OK', 'SHE GASPS', 'WITH'}"
            ]
          },
          "metadata": {},
          "execution_count": 123
        }
      ]
    },
    {
      "cell_type": "code",
      "source": [
        "# Manually pick cap items that should be removed, commented out unwaited items\n",
        "# Keeping items that looks like an actual words that should be in caps (e.g. A, I, DIY, HR, TV)\n",
        "cap_to_remove={\n",
        "# 'A', \n",
        "'ALL', \n",
        "'BOTH', \n",
        "# 'I', \n",
        "# 'OK', \n",
        "'SHE GASPS', \n",
        "# 'WITH'\n",
        " } \n",
        "\n",
        " # Delete cap words, by replacing them with ''\n",
        "for words in cap_to_remove:\n",
        "  clean_textfile = clean_textfile.replace(words, '')"
      ],
      "metadata": {
        "id": "h5lkwOWw30bA"
      },
      "execution_count": null,
      "outputs": []
    },
    {
      "cell_type": "code",
      "source": [
        "# Check if caps are removed properly, if anything is missed, add teh word in the step above and rerun code\n",
        "\n",
        "validate_caps = set(re.findall(r\"(\\b(?:[A-Z]+[A-Z]*|[A-Z]*[A-Z]+)\\b(?:\\s+(?:[A-Z]+[a-z]?[A-Z]*|[A-Z]*[a-z]?[A-Z]+)\\b)*)\"\n",
        "                      , clean_textfile\n",
        "                      , re.DOTALL))\n",
        "\n",
        "validate_caps"
      ],
      "metadata": {
        "colab": {
          "base_uri": "https://localhost:8080/"
        },
        "id": "8BEXU8hE-SR9",
        "outputId": "545451fd-f0cf-4f9d-e50a-778b40a1bf2d"
      },
      "execution_count": null,
      "outputs": [
        {
          "output_type": "execute_result",
          "data": {
            "text/plain": [
              "{'A', 'I', 'OK', 'S', 'THAT', 'THEM', 'WE', 'WILL'}"
            ]
          },
          "metadata": {},
          "execution_count": 113
        }
      ]
    },
    {
      "cell_type": "markdown",
      "source": [
        "# Remove [name]"
      ],
      "metadata": {
        "id": "IgG6yP801X2f"
      }
    },
    {
      "cell_type": "code",
      "source": [
        "# identify all text in all square \n",
        "all_square_bracket = set(re.findall(r\"\\[[^\\[\\]]+\\]\"\n",
        "                      , clean_textfile\n",
        "                      , re.DOTALL))\n",
        "\n",
        "all_square_bracket"
      ],
      "metadata": {
        "colab": {
          "base_uri": "https://localhost:8080/"
        },
        "id": "tdyZUZx11z0R",
        "outputId": "508b920c-2bfe-443e-cfef-670262348e99"
      },
      "execution_count": null,
      "outputs": [
        {
          "output_type": "execute_result",
          "data": {
            "text/plain": [
              "set()"
            ]
          },
          "metadata": {},
          "execution_count": 125
        }
      ]
    },
    {
      "cell_type": "code",
      "source": [
        "# Manually pick [] items that should be removed\n",
        "square_bracket_to_remove={'} \n",
        "\n",
        " # Delete cap words, by replacing them with ''\n",
        "for words in square_bracket_to_remove:\n",
        "  clean_textfile = clean_textfile.replace(words, '')\n",
        "\n",
        "clean_textfile = clean_textfile.replace('[]', '')  "
      ],
      "metadata": {
        "id": "VMHoFALJ49Fl",
        "colab": {
          "base_uri": "https://localhost:8080/",
          "height": 133
        },
        "outputId": "939d9d5d-3a27-4250-eec0-682a2f3b61f4"
      },
      "execution_count": null,
      "outputs": [
        {
          "output_type": "error",
          "ename": "SyntaxError",
          "evalue": "ignored",
          "traceback": [
            "\u001b[0;36m  File \u001b[0;32m\"<ipython-input-66-4120efdac97c>\"\u001b[0;36m, line \u001b[0;32m2\u001b[0m\n\u001b[0;31m    square_bracket_to_remove={'}\u001b[0m\n\u001b[0m                                 ^\u001b[0m\n\u001b[0;31mSyntaxError\u001b[0m\u001b[0;31m:\u001b[0m EOL while scanning string literal\n"
          ]
        }
      ]
    },
    {
      "cell_type": "code",
      "source": [
        "# Check if they have been removed properly\n",
        "# identify all text in all caps\n",
        "all_square_bracket = set(re.findall(r\"\\[[^\\[\\]]+\\]\"\n",
        "                      , clean_textfile\n",
        "                      , re.DOTALL))\n",
        "\n",
        "all_square_bracket"
      ],
      "metadata": {
        "colab": {
          "base_uri": "https://localhost:8080/"
        },
        "id": "FWvwO0HS4s0i",
        "outputId": "51c567fa-e99a-453c-afae-1b7596346b89"
      },
      "execution_count": null,
      "outputs": [
        {
          "output_type": "execute_result",
          "data": {
            "text/plain": [
              "set()"
            ]
          },
          "metadata": {},
          "execution_count": 126
        }
      ]
    },
    {
      "cell_type": "markdown",
      "source": [
        "# Remove \"advertising\" lines"
      ],
      "metadata": {
        "id": "e9VSeoS41cp1"
      }
    },
    {
      "cell_type": "code",
      "source": [
        "clean_textfile = re.sub(\"Advertise your product or brand here\", \"\", clean_textfile)\n",
        "clean_textfile = re.sub(\"contact www.OpenSubtitles.org today\", \"\", clean_textfile)\n",
        "clean_textfile = re.sub(\"Support us and become VIP member\", \"\", clean_textfile)\n",
        "clean_textfile = re.sub(\"to remove all ads from www.OpenSubtitles.org\", \"\", clean_textfile)\n",
        "clean_textfile = re.sub(\"Advertise your product or brand here\", \"\", clean_textfile)\n",
        "clean_textfile = re.sub(\"contact www.OpenSubtitles.org today\", \"\", clean_textfile)\n",
        "\n",
        "\n"
      ],
      "metadata": {
        "id": "sr9CozTi8k03"
      },
      "execution_count": null,
      "outputs": []
    },
    {
      "cell_type": "markdown",
      "source": [
        "# Remove and/or replace weird characters"
      ],
      "metadata": {
        "id": "PcCg0batMHbp"
      }
    },
    {
      "cell_type": "code",
      "source": [
        "# identify all special characters\n",
        "\n",
        "print(re.findall(\"â¦\", clean_textfile, flags=0),\n",
        "      re.findall(\"âª\", clean_textfile, flags=0),\n",
        "      re.findall(\"Ã¨\", clean_textfile, flags=0),\n",
        "      re.findall(\"Ã¼\", clean_textfile, flags=0))\n"
      ],
      "metadata": {
        "colab": {
          "base_uri": "https://localhost:8080/"
        },
        "id": "LmyL-pMgNuwr",
        "outputId": "5847ebf6-79b5-4f6e-9335-c29b5ebe291e"
      },
      "execution_count": null,
      "outputs": [
        {
          "output_type": "stream",
          "name": "stdout",
          "text": [
            "[] [] [] []\n"
          ]
        }
      ]
    },
    {
      "cell_type": "code",
      "source": [
        "clean_textfile = re.sub(\"â¦\", \"\", clean_textfile)\n",
        "clean_textfile = re.sub(\"âª\", \"\", clean_textfile)\n",
        "clean_textfile = re.sub(\"Ã¨\", \"e\", clean_textfile)\n",
        "clean_textfile = re.sub(\"Ã¼\", \"u\", clean_textfile)"
      ],
      "metadata": {
        "id": "arh3w94XMHgQ"
      },
      "execution_count": null,
      "outputs": []
    },
    {
      "cell_type": "markdown",
      "source": [],
      "metadata": {
        "id": "42_mfJDL1bmU"
      }
    },
    {
      "cell_type": "markdown",
      "source": [
        "# 2) Remove Music ♪"
      ],
      "metadata": {
        "id": "9C2Vq3UM_Kxs"
      }
    },
    {
      "cell_type": "code",
      "source": [
        "# might be easier to do manually?"
      ],
      "metadata": {
        "id": "5h-J6IvJ_Nw7"
      },
      "execution_count": null,
      "outputs": []
    },
    {
      "cell_type": "code",
      "source": [
        "%%time\n",
        "clean_textfile = re.sub(\"[♪@*&?].*[♪@*&?]\", \"\", clean_textfile)"
      ],
      "metadata": {
        "colab": {
          "base_uri": "https://localhost:8080/"
        },
        "id": "HJOqaObnALlE",
        "outputId": "3ae2c8e7-e06d-4d63-b738-9cfd6df6e4d5"
      },
      "execution_count": null,
      "outputs": [
        {
          "output_type": "stream",
          "name": "stdout",
          "text": [
            "CPU times: user 427 µs, sys: 0 ns, total: 427 µs\n",
            "Wall time: 431 µs\n"
          ]
        }
      ]
    },
    {
      "cell_type": "markdown",
      "source": [
        "# Export cleaned file"
      ],
      "metadata": {
        "id": "eQyAPtt90uMh"
      }
    },
    {
      "cell_type": "code",
      "source": [
        "# Check how text is looking now\n",
        "print(clean_textfile[:1000])"
      ],
      "metadata": {
        "colab": {
          "base_uri": "https://localhost:8080/"
        },
        "id": "o4Ci_aDc1Xgo",
        "outputId": "db331fc8-ab22-46eb-f16b-1396c2dc62ba"
      },
      "execution_count": null,
      "outputs": [
        {
          "output_type": "stream",
          "name": "stdout",
          "text": [
            "Welcome to The Great British Bake Off Masterclass.\n",
            "\n",
            "Judges Mary Berry and I will be doing the baking.\n",
            "\n",
            "We'll guide you through challenges faced by the bakers in this year's Bake Off.\n",
            "\n",
            "We will show you some little tips and tricks that will help you at home to create something magical.\n",
            "\n",
            "From the mixing, to the baking, to the finishing,\n",
            "\n",
            "to the presentation, at home you will get the same results.\n",
            "\n",
            "Coming up, my luxury pork pies\n",
            "\n",
            "encased in notoriously-difficult-to-handle hot water crust pastry,\n",
            "\n",
            "filled with the perfect combination of pork loin and a quail's egg.\n",
            "\n",
            "Mary Berry's chocolate roulade recipe.\n",
            "\n",
            "Mary will show you how to get the perfect roll every time.\n",
            "\n",
            "\n",
            "\n",
            "My traditional iced fingers - a complex combination\n",
            "\n",
            "of sweet yet buttery dough, precisely piped with whipped cream and strawberry jam.\n",
            "\n",
            "And Mary's Sachertorte - a technically tricky, dense chocolate cake\n",
            "\n",
            "with its signature glossy ganache icing.\n",
            "\n",
            "'Over the course of eight weeks\n",
            "\n",
            "'earlier this year, Mary and I saw twelve of the c\n"
          ]
        }
      ]
    },
    {
      "cell_type": "code",
      "source": [
        "%%time\n",
        "\n",
        "# export file to check \n",
        "with open('S2E10_python_cleaned_v1.txt', 'a') as f:\n",
        "    f.write(clean_textfile)"
      ],
      "metadata": {
        "colab": {
          "base_uri": "https://localhost:8080/"
        },
        "id": "lhOTjFbD_QQs",
        "outputId": "e8ca8d00-4d13-40fc-8dbf-b08954b267ff"
      },
      "execution_count": null,
      "outputs": [
        {
          "output_type": "stream",
          "name": "stdout",
          "text": [
            "CPU times: user 447 µs, sys: 943 µs, total: 1.39 ms\n",
            "Wall time: 1.4 ms\n"
          ]
        }
      ]
    },
    {
      "cell_type": "markdown",
      "source": [
        "# Ignore from here\n",
        "\n",
        "- The following save .ipynb as html so others can view (not needed for workflow)\n",
        "- To do so, export the ipynb to your desktop, then re-upload them to your directory in colab (left panel) below sample_data\n",
        "- Copy file path from the uploaded file and update code below\n",
        "- Then run code below, it should save a copy of the notebook in html"
      ],
      "metadata": {
        "id": "pl3J1H1wC_6w"
      }
    },
    {
      "cell_type": "code",
      "source": [
        "%%shell\n",
        "jupyter nbconvert --to html /content/20230228_test_clean_corpus.ipynb"
      ],
      "metadata": {
        "colab": {
          "base_uri": "https://localhost:8080/"
        },
        "id": "TIOFrr4FBYIe",
        "outputId": "f8e5427a-e9e7-409d-8a26-ca5134a7247f"
      },
      "execution_count": null,
      "outputs": [
        {
          "output_type": "stream",
          "name": "stdout",
          "text": [
            "[NbConvertApp] Converting notebook /content/20230228_test_clean_corpus.ipynb to html\n",
            "[NbConvertApp] Writing 613027 bytes to /content/20230228_test_clean_corpus.html\n"
          ]
        },
        {
          "output_type": "execute_result",
          "data": {
            "text/plain": []
          },
          "metadata": {},
          "execution_count": 165
        }
      ]
    },
    {
      "cell_type": "code",
      "source": [],
      "metadata": {
        "id": "Qcic6XP5Bdqc"
      },
      "execution_count": null,
      "outputs": []
    }
  ]
}